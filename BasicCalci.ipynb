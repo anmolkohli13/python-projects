{
 "cells": [
  {
   "cell_type": "markdown",
   "metadata": {},
   "source": [
    "## basic calculator"
   ]
  },
  {
   "cell_type": "code",
   "execution_count": 3,
   "metadata": {},
   "outputs": [
    {
     "name": "stdout",
     "output_type": "stream",
     "text": [
      "2\n",
      "5\n",
      "+\n",
      "7.0\n"
     ]
    }
   ],
   "source": [
    "a=float(input())\n",
    "b=float(input())\n",
    "op=input()\n",
    "if(op==\"+\"):\n",
    "    c=a+b\n",
    "    print(c)\n",
    "elif(op==\"-\"):\n",
    "    c=a-b\n",
    "    print(c)\n",
    "elif(op==\"*\"):\n",
    "    c=a*b\n",
    "    print(c)\n",
    "else:\n",
    "    c=a/b\n",
    "    print(c)\n",
    "    \n",
    "    \n",
    "    "
   ]
  },
  {
   "cell_type": "markdown",
   "metadata": {},
   "source": [
    "## ninjas calculator problem"
   ]
  },
  {
   "cell_type": "code",
   "execution_count": 8,
   "metadata": {},
   "outputs": [
    {
     "name": "stdout",
     "output_type": "stream",
     "text": [
      "3\n",
      "4\n",
      "6\n",
      "24\n"
     ]
    }
   ],
   "source": [
    "a=int(input())\n",
    "if a==1:\n",
    "    b=int(input())\n",
    "    c=int(input())\n",
    "    print(b+c)\n",
    "elif a==2:\n",
    "    b=int(input())\n",
    "    c=int(input())\n",
    "    print(b-c)\n",
    "elif a==3:\n",
    "    b=int(input())\n",
    "    c=int(input())\n",
    "    print(b*c)\n",
    "elif a==4:\n",
    "    b=int(input())\n",
    "    c=int(input())\n",
    "    print(b/c)\n",
    "elif a==5:\n",
    "    b=int(input())\n",
    "    c=int(input())\n",
    "    print(b%c)\n",
    "elif a==6:\n",
    "    exit()\n",
    "else:\n",
    "    print(\"invalid op\")\n",
    "                                \n",
    "\n",
    "            "
   ]
  }
 ],
 "metadata": {
  "kernelspec": {
   "display_name": "Python 3",
   "language": "python",
   "name": "python3"
  },
  "language_info": {
   "codemirror_mode": {
    "name": "ipython",
    "version": 3
   },
   "file_extension": ".py",
   "mimetype": "text/x-python",
   "name": "python",
   "nbconvert_exporter": "python",
   "pygments_lexer": "ipython3",
   "version": "3.7.6"
  }
 },
 "nbformat": 4,
 "nbformat_minor": 4
}
