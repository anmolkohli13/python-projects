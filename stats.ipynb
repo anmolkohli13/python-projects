{
 "cells": [
  {
   "cell_type": "code",
   "execution_count": 1,
   "metadata": {},
   "outputs": [
    {
     "name": "stdout",
     "output_type": "stream",
     "text": [
      "    Student  Overall Marks  Gender    Subject\n",
      "0     Anish             97    Male    English\n",
      "1   Rishabh             83    Male    English\n",
      "2      Ajay             78    Male    Physics\n",
      "3   Abhinav             86    Male  Chemistry\n",
      "4    Anurag             91    Male    English\n",
      "..      ...            ...     ...        ...\n",
      "95  Aaditya             77    Male  Chemistry\n",
      "96    vivek             55    Male    Physics\n",
      "97    Tisha              7  Female    English\n",
      "98   Raghav             73    Male    English\n",
      "99   Ishita             82  Female  Chemistry\n",
      "\n",
      "[100 rows x 4 columns]\n"
     ]
    }
   ],
   "source": [
    "import pandas as pd\n",
    "\n",
    "data=pd.read_csv(\"C:/Users/10times-61/Downloads/mean/mean.csv\")\n",
    "print(data)"
   ]
  },
  {
   "cell_type": "code",
   "execution_count": 2,
   "metadata": {},
   "outputs": [
    {
     "name": "stdout",
     "output_type": "stream",
     "text": [
      "68.21\n"
     ]
    }
   ],
   "source": [
    "mean=data[\"Overall Marks\"].mean()\n",
    "print(mean)"
   ]
  },
  {
   "cell_type": "code",
   "execution_count": 4,
   "metadata": {},
   "outputs": [
    {
     "name": "stdout",
     "output_type": "stream",
     "text": [
      "0    88\n",
      "dtype: int64\n"
     ]
    }
   ],
   "source": [
    "mode=data[\"Overall Marks\"].mode()\n",
    "print(mode)"
   ]
  },
  {
   "cell_type": "code",
   "execution_count": 7,
   "metadata": {},
   "outputs": [
    {
     "name": "stdout",
     "output_type": "stream",
     "text": [
      "166.54455445544554\n"
     ]
    }
   ],
   "source": [
    "data_1=pd.read_csv(\"C:/Users/10times-61/Downloads/mean/mean_robust.csv\")\n",
    "print(data_1[\"Overall Marks\"].mean())"
   ]
  },
  {
   "cell_type": "code",
   "execution_count": 10,
   "metadata": {},
   "outputs": [
    {
     "data": {
      "text/plain": [
       "13.0"
      ]
     },
     "execution_count": 10,
     "metadata": {},
     "output_type": "execute_result"
    }
   ],
   "source": [
    "(1+2+3+5+7+11+13+17+19+23+29)/10\n"
   ]
  },
  {
   "cell_type": "code",
   "execution_count": 11,
   "metadata": {},
   "outputs": [
    {
     "name": "stdout",
     "output_type": "stream",
     "text": [
      "    Student  Overall Marks  Gender    Subject\n",
      "0     Anish           9700    Male    English\n",
      "1   Rishabh             83    Male    English\n",
      "2      Ajay             78    Male    Physics\n",
      "3   Abhinav             86    Male  Chemistry\n",
      "4    Anurag             91    Male    English\n",
      "..      ...            ...     ...        ...\n",
      "95  Aaditya             77    Male  Chemistry\n",
      "96    vivek             55    Male    Physics\n",
      "97    Tisha              7  Female    English\n",
      "98   Raghav             73    Male    English\n",
      "99   Ishita             82  Female  Chemistry\n",
      "\n",
      "[100 rows x 4 columns]\n"
     ]
    }
   ],
   "source": [
    "data_2=pd.read_csv(\"C:/Users/10times-61/Downloads/median/median.csv\")\n",
    "print(data_2)"
   ]
  },
  {
   "cell_type": "code",
   "execution_count": 15,
   "metadata": {},
   "outputs": [
    {
     "name": "stdout",
     "output_type": "stream",
     "text": [
      "77.0\n",
      "57.25\n",
      "77.0\n",
      "87.25\n",
      "9700.0\n"
     ]
    }
   ],
   "source": [
    "median=data_2[\"Overall Marks\"].median()\n",
    "print(median)\n",
    "print(data_2[\"Overall Marks\"].quantile(0.25))\n",
    "print(data_2[\"Overall Marks\"].quantile(0.5))\n",
    "print(data_2[\"Overall Marks\"].quantile(0.75))\n",
    "print(data_2[\"Overall Marks\"].quantile(1))"
   ]
  },
  {
   "cell_type": "code",
   "execution_count": 23,
   "metadata": {},
   "outputs": [
    {
     "name": "stdout",
     "output_type": "stream",
     "text": [
      "919170.8423999996\n"
     ]
    }
   ],
   "source": [
    "print(data_2[\"Overall Marks\"].var(ddof=0))"
   ]
  },
  {
   "cell_type": "code",
   "execution_count": 19,
   "metadata": {},
   "outputs": [
    {
     "name": "stdout",
     "output_type": "stream",
     "text": [
      "2.7600000000000002\n"
     ]
    }
   ],
   "source": [
    "import numpy as np\n",
    "d=[7,6,8,4,2,7,6,7,6,5]\n",
    "print(np.var(d))"
   ]
  },
  {
   "cell_type": "code",
   "execution_count": 24,
   "metadata": {},
   "outputs": [
    {
     "name": "stdout",
     "output_type": "stream",
     "text": [
      "958.7339789534944\n"
     ]
    }
   ],
   "source": [
    "print(data_2[\"Overall Marks\"].std(ddof=0))"
   ]
  },
  {
   "cell_type": "code",
   "execution_count": 40,
   "metadata": {},
   "outputs": [
    {
     "name": "stdout",
     "output_type": "stream",
     "text": [
      "64.65514287355647\n",
      "64.65514287355647\n"
     ]
    }
   ],
   "source": [
    "\n",
    "f=[180, 313, 101, 255, 202, 198, 109, 183, 181, 113, 171, 165, 318, 145, 131, 145, 226, 113, 268, 108]\n",
    "print(np.std(f))\n",
    "print(np.std([180, 313, 101, 255, 202, 198, 109, 183, 181, 113, 171, 165, 318, 145, 131, 145, 226, 113, 268, 108]))"
   ]
  },
  {
   "cell_type": "markdown",
   "metadata": {},
   "source": [
    "## one standard deviation above = standard deviation+mean\n",
    "## one standard deviation below = standard deviation-mean"
   ]
  },
  {
   "cell_type": "markdown",
   "metadata": {},
   "source": [
    "## frequency table"
   ]
  },
  {
   "cell_type": "code",
   "execution_count": 41,
   "metadata": {},
   "outputs": [
    {
     "data": {
      "text/plain": [
       "Chemistry    36\n",
       "Physics      35\n",
       "English      29\n",
       "Name: Subject, dtype: int64"
      ]
     },
     "execution_count": 41,
     "metadata": {},
     "output_type": "execute_result"
    }
   ],
   "source": [
    "data[\"Subject\"].value_counts()"
   ]
  },
  {
   "cell_type": "markdown",
   "metadata": {},
   "source": [
    "## use of matplotlib"
   ]
  },
  {
   "cell_type": "code",
   "execution_count": 46,
   "metadata": {},
   "outputs": [
    {
     "data": {
      "image/png": "[encoded data removed]",
      "text/plain": [
       "<Figure size 432x288 with 1 Axes>"
      ]
     },
     "metadata": {
      "needs_background": "light"
     },
     "output_type": "display_data"
    }
   ],
   "source": [
    "import matplotlib.pyplot as plt\n",
    "%matplotlib inline\n",
    "plt.hist(x=\"Overall Marks\",data=data)\n",
    "plt.show()"
   ]
  },
  {
   "cell_type": "code",
   "execution_count": 56,
   "metadata": {},
   "outputs": [
    {
     "data": {
      "image/png": "[encoded data removed]",
      "text/plain": [
       "<Figure size 432x288 with 1 Axes>"
      ]
     },
     "metadata": {
      "needs_background": "light"
     },
     "output_type": "display_data"
    }
   ],
   "source": [
    "plt.hist(x=\"Overall Marks\",data=data,bins=5)\n",
    "\n",
    "plt.show()"
   ]
  },
  {
   "cell_type": "code",
   "execution_count": null,
   "metadata": {},
   "outputs": [],
   "source": []
  }
 ],
 "metadata": {
  "kernelspec": {
   "display_name": "Python 3",
   "language": "python",
   "name": "python3"
  },
  "language_info": {
   "codemirror_mode": {
    "name": "ipython",
    "version": 3
   },
   "file_extension": ".py",
   "mimetype": "text/x-python",
   "name": "python",
   "nbconvert_exporter": "python",
   "pygments_lexer": "ipython3",
   "version": "3.7.6"
  }
 },
 "nbformat": 4,
 "nbformat_minor": 4
}
